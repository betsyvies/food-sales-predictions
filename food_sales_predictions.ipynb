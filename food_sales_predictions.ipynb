{
  "nbformat": 4,
  "nbformat_minor": 0,
  "metadata": {
    "colab": {
      "provenance": [],
      "authorship_tag": "ABX9TyPj7v73ILriA8wKINe0Fdpb",
      "include_colab_link": true
    },
    "kernelspec": {
      "name": "python3",
      "display_name": "Python 3"
    },
    "language_info": {
      "name": "python"
    }
  },
  "cells": [
    {
      "cell_type": "markdown",
      "metadata": {
        "id": "view-in-github",
        "colab_type": "text"
      },
      "source": [
        "<a href=\"https://colab.research.google.com/github/betsyvies/food-sales-predictions/blob/main/food_sales_predictions.ipynb\" target=\"_parent\"><img src=\"https://colab.research.google.com/assets/colab-badge.svg\" alt=\"Open In Colab\"/></a>"
      ]
    },
    {
      "cell_type": "code",
      "source": [
        "from google.colab import drive\n",
        "drive.mount('/content/drive')"
      ],
      "metadata": {
        "id": "BRL0mpr4yJXC",
        "colab": {
          "base_uri": "https://localhost:8080/"
        },
        "outputId": "ddd4b69c-1c15-4dce-c4cb-0676b8b6bbd6"
      },
      "execution_count": 39,
      "outputs": [
        {
          "output_type": "stream",
          "name": "stdout",
          "text": [
            "Drive already mounted at /content/drive; to attempt to forcibly remount, call drive.mount(\"/content/drive\", force_remount=True).\n"
          ]
        }
      ]
    },
    {
      "cell_type": "code",
      "execution_count": 5,
      "metadata": {
        "id": "XSSIaJotGzOm"
      },
      "outputs": [],
      "source": [
        "import matplotlib.pyplot as plt\n",
        "import seaborn as sns\n",
        "import pandas as pd\n",
        "import numpy as np"
      ]
    },
    {
      "cell_type": "code",
      "source": [
        "sales_predictions = \"/content/drive/MyDrive/Data science/Projects/Project 1/sales_predictions_2023.csv\"\n",
        "df = pd.read_csv(sales_predictions)\n",
        "df.head()"
      ],
      "metadata": {
        "colab": {
          "base_uri": "https://localhost:8080/",
          "height": 313
        },
        "id": "XgT28Y_CHGXF",
        "outputId": "cc2109c9-a11d-4d31-8089-2aafbd0a120c"
      },
      "execution_count": 6,
      "outputs": [
        {
          "output_type": "execute_result",
          "data": {
            "text/plain": [
              "  Item_Identifier  Item_Weight Item_Fat_Content  Item_Visibility  \\\n",
              "0           FDA15         9.30          Low Fat         0.016047   \n",
              "1           DRC01         5.92          Regular         0.019278   \n",
              "2           FDN15        17.50          Low Fat         0.016760   \n",
              "3           FDX07        19.20          Regular         0.000000   \n",
              "4           NCD19         8.93          Low Fat         0.000000   \n",
              "\n",
              "               Item_Type  Item_MRP Outlet_Identifier  \\\n",
              "0                  Dairy  249.8092            OUT049   \n",
              "1            Soft Drinks   48.2692            OUT018   \n",
              "2                   Meat  141.6180            OUT049   \n",
              "3  Fruits and Vegetables  182.0950            OUT010   \n",
              "4              Household   53.8614            OUT013   \n",
              "\n",
              "   Outlet_Establishment_Year Outlet_Size Outlet_Location_Type  \\\n",
              "0                       1999      Medium               Tier 1   \n",
              "1                       2009      Medium               Tier 3   \n",
              "2                       1999      Medium               Tier 1   \n",
              "3                       1998         NaN               Tier 3   \n",
              "4                       1987        High               Tier 3   \n",
              "\n",
              "         Outlet_Type  Item_Outlet_Sales  \n",
              "0  Supermarket Type1          3735.1380  \n",
              "1  Supermarket Type2           443.4228  \n",
              "2  Supermarket Type1          2097.2700  \n",
              "3      Grocery Store           732.3800  \n",
              "4  Supermarket Type1           994.7052  "
            ],
            "text/html": [
              "\n",
              "  <div id=\"df-9101b421-a05b-418f-a7e3-d3fd1a46b3cc\" class=\"colab-df-container\">\n",
              "    <div>\n",
              "<style scoped>\n",
              "    .dataframe tbody tr th:only-of-type {\n",
              "        vertical-align: middle;\n",
              "    }\n",
              "\n",
              "    .dataframe tbody tr th {\n",
              "        vertical-align: top;\n",
              "    }\n",
              "\n",
              "    .dataframe thead th {\n",
              "        text-align: right;\n",
              "    }\n",
              "</style>\n",
              "<table border=\"1\" class=\"dataframe\">\n",
              "  <thead>\n",
              "    <tr style=\"text-align: right;\">\n",
              "      <th></th>\n",
              "      <th>Item_Identifier</th>\n",
              "      <th>Item_Weight</th>\n",
              "      <th>Item_Fat_Content</th>\n",
              "      <th>Item_Visibility</th>\n",
              "      <th>Item_Type</th>\n",
              "      <th>Item_MRP</th>\n",
              "      <th>Outlet_Identifier</th>\n",
              "      <th>Outlet_Establishment_Year</th>\n",
              "      <th>Outlet_Size</th>\n",
              "      <th>Outlet_Location_Type</th>\n",
              "      <th>Outlet_Type</th>\n",
              "      <th>Item_Outlet_Sales</th>\n",
              "    </tr>\n",
              "  </thead>\n",
              "  <tbody>\n",
              "    <tr>\n",
              "      <th>0</th>\n",
              "      <td>FDA15</td>\n",
              "      <td>9.30</td>\n",
              "      <td>Low Fat</td>\n",
              "      <td>0.016047</td>\n",
              "      <td>Dairy</td>\n",
              "      <td>249.8092</td>\n",
              "      <td>OUT049</td>\n",
              "      <td>1999</td>\n",
              "      <td>Medium</td>\n",
              "      <td>Tier 1</td>\n",
              "      <td>Supermarket Type1</td>\n",
              "      <td>3735.1380</td>\n",
              "    </tr>\n",
              "    <tr>\n",
              "      <th>1</th>\n",
              "      <td>DRC01</td>\n",
              "      <td>5.92</td>\n",
              "      <td>Regular</td>\n",
              "      <td>0.019278</td>\n",
              "      <td>Soft Drinks</td>\n",
              "      <td>48.2692</td>\n",
              "      <td>OUT018</td>\n",
              "      <td>2009</td>\n",
              "      <td>Medium</td>\n",
              "      <td>Tier 3</td>\n",
              "      <td>Supermarket Type2</td>\n",
              "      <td>443.4228</td>\n",
              "    </tr>\n",
              "    <tr>\n",
              "      <th>2</th>\n",
              "      <td>FDN15</td>\n",
              "      <td>17.50</td>\n",
              "      <td>Low Fat</td>\n",
              "      <td>0.016760</td>\n",
              "      <td>Meat</td>\n",
              "      <td>141.6180</td>\n",
              "      <td>OUT049</td>\n",
              "      <td>1999</td>\n",
              "      <td>Medium</td>\n",
              "      <td>Tier 1</td>\n",
              "      <td>Supermarket Type1</td>\n",
              "      <td>2097.2700</td>\n",
              "    </tr>\n",
              "    <tr>\n",
              "      <th>3</th>\n",
              "      <td>FDX07</td>\n",
              "      <td>19.20</td>\n",
              "      <td>Regular</td>\n",
              "      <td>0.000000</td>\n",
              "      <td>Fruits and Vegetables</td>\n",
              "      <td>182.0950</td>\n",
              "      <td>OUT010</td>\n",
              "      <td>1998</td>\n",
              "      <td>NaN</td>\n",
              "      <td>Tier 3</td>\n",
              "      <td>Grocery Store</td>\n",
              "      <td>732.3800</td>\n",
              "    </tr>\n",
              "    <tr>\n",
              "      <th>4</th>\n",
              "      <td>NCD19</td>\n",
              "      <td>8.93</td>\n",
              "      <td>Low Fat</td>\n",
              "      <td>0.000000</td>\n",
              "      <td>Household</td>\n",
              "      <td>53.8614</td>\n",
              "      <td>OUT013</td>\n",
              "      <td>1987</td>\n",
              "      <td>High</td>\n",
              "      <td>Tier 3</td>\n",
              "      <td>Supermarket Type1</td>\n",
              "      <td>994.7052</td>\n",
              "    </tr>\n",
              "  </tbody>\n",
              "</table>\n",
              "</div>\n",
              "    <div class=\"colab-df-buttons\">\n",
              "\n",
              "  <div class=\"colab-df-container\">\n",
              "    <button class=\"colab-df-convert\" onclick=\"convertToInteractive('df-9101b421-a05b-418f-a7e3-d3fd1a46b3cc')\"\n",
              "            title=\"Convert this dataframe to an interactive table.\"\n",
              "            style=\"display:none;\">\n",
              "\n",
              "  <svg xmlns=\"http://www.w3.org/2000/svg\" height=\"24px\" viewBox=\"0 -960 960 960\">\n",
              "    <path d=\"M120-120v-720h720v720H120Zm60-500h600v-160H180v160Zm220 220h160v-160H400v160Zm0 220h160v-160H400v160ZM180-400h160v-160H180v160Zm440 0h160v-160H620v160ZM180-180h160v-160H180v160Zm440 0h160v-160H620v160Z\"/>\n",
              "  </svg>\n",
              "    </button>\n",
              "\n",
              "  <style>\n",
              "    .colab-df-container {\n",
              "      display:flex;\n",
              "      gap: 12px;\n",
              "    }\n",
              "\n",
              "    .colab-df-convert {\n",
              "      background-color: #E8F0FE;\n",
              "      border: none;\n",
              "      border-radius: 50%;\n",
              "      cursor: pointer;\n",
              "      display: none;\n",
              "      fill: #1967D2;\n",
              "      height: 32px;\n",
              "      padding: 0 0 0 0;\n",
              "      width: 32px;\n",
              "    }\n",
              "\n",
              "    .colab-df-convert:hover {\n",
              "      background-color: #E2EBFA;\n",
              "      box-shadow: 0px 1px 2px rgba(60, 64, 67, 0.3), 0px 1px 3px 1px rgba(60, 64, 67, 0.15);\n",
              "      fill: #174EA6;\n",
              "    }\n",
              "\n",
              "    .colab-df-buttons div {\n",
              "      margin-bottom: 4px;\n",
              "    }\n",
              "\n",
              "    [theme=dark] .colab-df-convert {\n",
              "      background-color: #3B4455;\n",
              "      fill: #D2E3FC;\n",
              "    }\n",
              "\n",
              "    [theme=dark] .colab-df-convert:hover {\n",
              "      background-color: #434B5C;\n",
              "      box-shadow: 0px 1px 3px 1px rgba(0, 0, 0, 0.15);\n",
              "      filter: drop-shadow(0px 1px 2px rgba(0, 0, 0, 0.3));\n",
              "      fill: #FFFFFF;\n",
              "    }\n",
              "  </style>\n",
              "\n",
              "    <script>\n",
              "      const buttonEl =\n",
              "        document.querySelector('#df-9101b421-a05b-418f-a7e3-d3fd1a46b3cc button.colab-df-convert');\n",
              "      buttonEl.style.display =\n",
              "        google.colab.kernel.accessAllowed ? 'block' : 'none';\n",
              "\n",
              "      async function convertToInteractive(key) {\n",
              "        const element = document.querySelector('#df-9101b421-a05b-418f-a7e3-d3fd1a46b3cc');\n",
              "        const dataTable =\n",
              "          await google.colab.kernel.invokeFunction('convertToInteractive',\n",
              "                                                    [key], {});\n",
              "        if (!dataTable) return;\n",
              "\n",
              "        const docLinkHtml = 'Like what you see? Visit the ' +\n",
              "          '<a target=\"_blank\" href=https://colab.research.google.com/notebooks/data_table.ipynb>data table notebook</a>'\n",
              "          + ' to learn more about interactive tables.';\n",
              "        element.innerHTML = '';\n",
              "        dataTable['output_type'] = 'display_data';\n",
              "        await google.colab.output.renderOutput(dataTable, element);\n",
              "        const docLink = document.createElement('div');\n",
              "        docLink.innerHTML = docLinkHtml;\n",
              "        element.appendChild(docLink);\n",
              "      }\n",
              "    </script>\n",
              "  </div>\n",
              "\n",
              "\n",
              "<div id=\"df-95a2b78b-41ea-48e8-be24-cf1c0ad0711f\">\n",
              "  <button class=\"colab-df-quickchart\" onclick=\"quickchart('df-95a2b78b-41ea-48e8-be24-cf1c0ad0711f')\"\n",
              "            title=\"Suggest charts\"\n",
              "            style=\"display:none;\">\n",
              "\n",
              "<svg xmlns=\"http://www.w3.org/2000/svg\" height=\"24px\"viewBox=\"0 0 24 24\"\n",
              "     width=\"24px\">\n",
              "    <g>\n",
              "        <path d=\"M19 3H5c-1.1 0-2 .9-2 2v14c0 1.1.9 2 2 2h14c1.1 0 2-.9 2-2V5c0-1.1-.9-2-2-2zM9 17H7v-7h2v7zm4 0h-2V7h2v10zm4 0h-2v-4h2v4z\"/>\n",
              "    </g>\n",
              "</svg>\n",
              "  </button>\n",
              "\n",
              "<style>\n",
              "  .colab-df-quickchart {\n",
              "      --bg-color: #E8F0FE;\n",
              "      --fill-color: #1967D2;\n",
              "      --hover-bg-color: #E2EBFA;\n",
              "      --hover-fill-color: #174EA6;\n",
              "      --disabled-fill-color: #AAA;\n",
              "      --disabled-bg-color: #DDD;\n",
              "  }\n",
              "\n",
              "  [theme=dark] .colab-df-quickchart {\n",
              "      --bg-color: #3B4455;\n",
              "      --fill-color: #D2E3FC;\n",
              "      --hover-bg-color: #434B5C;\n",
              "      --hover-fill-color: #FFFFFF;\n",
              "      --disabled-bg-color: #3B4455;\n",
              "      --disabled-fill-color: #666;\n",
              "  }\n",
              "\n",
              "  .colab-df-quickchart {\n",
              "    background-color: var(--bg-color);\n",
              "    border: none;\n",
              "    border-radius: 50%;\n",
              "    cursor: pointer;\n",
              "    display: none;\n",
              "    fill: var(--fill-color);\n",
              "    height: 32px;\n",
              "    padding: 0;\n",
              "    width: 32px;\n",
              "  }\n",
              "\n",
              "  .colab-df-quickchart:hover {\n",
              "    background-color: var(--hover-bg-color);\n",
              "    box-shadow: 0 1px 2px rgba(60, 64, 67, 0.3), 0 1px 3px 1px rgba(60, 64, 67, 0.15);\n",
              "    fill: var(--button-hover-fill-color);\n",
              "  }\n",
              "\n",
              "  .colab-df-quickchart-complete:disabled,\n",
              "  .colab-df-quickchart-complete:disabled:hover {\n",
              "    background-color: var(--disabled-bg-color);\n",
              "    fill: var(--disabled-fill-color);\n",
              "    box-shadow: none;\n",
              "  }\n",
              "\n",
              "  .colab-df-spinner {\n",
              "    border: 2px solid var(--fill-color);\n",
              "    border-color: transparent;\n",
              "    border-bottom-color: var(--fill-color);\n",
              "    animation:\n",
              "      spin 1s steps(1) infinite;\n",
              "  }\n",
              "\n",
              "  @keyframes spin {\n",
              "    0% {\n",
              "      border-color: transparent;\n",
              "      border-bottom-color: var(--fill-color);\n",
              "      border-left-color: var(--fill-color);\n",
              "    }\n",
              "    20% {\n",
              "      border-color: transparent;\n",
              "      border-left-color: var(--fill-color);\n",
              "      border-top-color: var(--fill-color);\n",
              "    }\n",
              "    30% {\n",
              "      border-color: transparent;\n",
              "      border-left-color: var(--fill-color);\n",
              "      border-top-color: var(--fill-color);\n",
              "      border-right-color: var(--fill-color);\n",
              "    }\n",
              "    40% {\n",
              "      border-color: transparent;\n",
              "      border-right-color: var(--fill-color);\n",
              "      border-top-color: var(--fill-color);\n",
              "    }\n",
              "    60% {\n",
              "      border-color: transparent;\n",
              "      border-right-color: var(--fill-color);\n",
              "    }\n",
              "    80% {\n",
              "      border-color: transparent;\n",
              "      border-right-color: var(--fill-color);\n",
              "      border-bottom-color: var(--fill-color);\n",
              "    }\n",
              "    90% {\n",
              "      border-color: transparent;\n",
              "      border-bottom-color: var(--fill-color);\n",
              "    }\n",
              "  }\n",
              "</style>\n",
              "\n",
              "  <script>\n",
              "    async function quickchart(key) {\n",
              "      const quickchartButtonEl =\n",
              "        document.querySelector('#' + key + ' button');\n",
              "      quickchartButtonEl.disabled = true;  // To prevent multiple clicks.\n",
              "      quickchartButtonEl.classList.add('colab-df-spinner');\n",
              "      try {\n",
              "        const charts = await google.colab.kernel.invokeFunction(\n",
              "            'suggestCharts', [key], {});\n",
              "      } catch (error) {\n",
              "        console.error('Error during call to suggestCharts:', error);\n",
              "      }\n",
              "      quickchartButtonEl.classList.remove('colab-df-spinner');\n",
              "      quickchartButtonEl.classList.add('colab-df-quickchart-complete');\n",
              "    }\n",
              "    (() => {\n",
              "      let quickchartButtonEl =\n",
              "        document.querySelector('#df-95a2b78b-41ea-48e8-be24-cf1c0ad0711f button');\n",
              "      quickchartButtonEl.style.display =\n",
              "        google.colab.kernel.accessAllowed ? 'block' : 'none';\n",
              "    })();\n",
              "  </script>\n",
              "</div>\n",
              "\n",
              "    </div>\n",
              "  </div>\n"
            ],
            "application/vnd.google.colaboratory.intrinsic+json": {
              "type": "dataframe",
              "variable_name": "df",
              "summary": "{\n  \"name\": \"df\",\n  \"rows\": 8523,\n  \"fields\": [\n    {\n      \"column\": \"Item_Identifier\",\n      \"properties\": {\n        \"dtype\": \"category\",\n        \"num_unique_values\": 1559,\n        \"samples\": [\n          \"FDY01\",\n          \"FDG05\",\n          \"NCJ29\"\n        ],\n        \"semantic_type\": \"\",\n        \"description\": \"\"\n      }\n    },\n    {\n      \"column\": \"Item_Weight\",\n      \"properties\": {\n        \"dtype\": \"number\",\n        \"std\": 4.643456499186415,\n        \"min\": 4.555,\n        \"max\": 21.35,\n        \"num_unique_values\": 415,\n        \"samples\": [\n          16.75,\n          8.695,\n          7.605\n        ],\n        \"semantic_type\": \"\",\n        \"description\": \"\"\n      }\n    },\n    {\n      \"column\": \"Item_Fat_Content\",\n      \"properties\": {\n        \"dtype\": \"category\",\n        \"num_unique_values\": 5,\n        \"samples\": [\n          \"Regular\",\n          \"reg\",\n          \"low fat\"\n        ],\n        \"semantic_type\": \"\",\n        \"description\": \"\"\n      }\n    },\n    {\n      \"column\": \"Item_Visibility\",\n      \"properties\": {\n        \"dtype\": \"number\",\n        \"std\": 0.05159782232113512,\n        \"min\": 0.0,\n        \"max\": 0.328390948,\n        \"num_unique_values\": 7880,\n        \"samples\": [\n          0.224837308,\n          0.046088273,\n          0.0204702\n        ],\n        \"semantic_type\": \"\",\n        \"description\": \"\"\n      }\n    },\n    {\n      \"column\": \"Item_Type\",\n      \"properties\": {\n        \"dtype\": \"category\",\n        \"num_unique_values\": 16,\n        \"samples\": [\n          \"Dairy\",\n          \"Soft Drinks\",\n          \"Baking Goods\"\n        ],\n        \"semantic_type\": \"\",\n        \"description\": \"\"\n      }\n    },\n    {\n      \"column\": \"Item_MRP\",\n      \"properties\": {\n        \"dtype\": \"number\",\n        \"std\": 62.27506651219046,\n        \"min\": 31.29,\n        \"max\": 266.8884,\n        \"num_unique_values\": 5938,\n        \"samples\": [\n          255.9672,\n          93.512,\n          208.3954\n        ],\n        \"semantic_type\": \"\",\n        \"description\": \"\"\n      }\n    },\n    {\n      \"column\": \"Outlet_Identifier\",\n      \"properties\": {\n        \"dtype\": \"category\",\n        \"num_unique_values\": 10,\n        \"samples\": [\n          \"OUT035\",\n          \"OUT018\",\n          \"OUT045\"\n        ],\n        \"semantic_type\": \"\",\n        \"description\": \"\"\n      }\n    },\n    {\n      \"column\": \"Outlet_Establishment_Year\",\n      \"properties\": {\n        \"dtype\": \"number\",\n        \"std\": 8,\n        \"min\": 1985,\n        \"max\": 2009,\n        \"num_unique_values\": 9,\n        \"samples\": [\n          1997,\n          2009,\n          2002\n        ],\n        \"semantic_type\": \"\",\n        \"description\": \"\"\n      }\n    },\n    {\n      \"column\": \"Outlet_Size\",\n      \"properties\": {\n        \"dtype\": \"category\",\n        \"num_unique_values\": 3,\n        \"samples\": [\n          \"Medium\",\n          \"High\",\n          \"Small\"\n        ],\n        \"semantic_type\": \"\",\n        \"description\": \"\"\n      }\n    },\n    {\n      \"column\": \"Outlet_Location_Type\",\n      \"properties\": {\n        \"dtype\": \"category\",\n        \"num_unique_values\": 3,\n        \"samples\": [\n          \"Tier 1\",\n          \"Tier 3\",\n          \"Tier 2\"\n        ],\n        \"semantic_type\": \"\",\n        \"description\": \"\"\n      }\n    },\n    {\n      \"column\": \"Outlet_Type\",\n      \"properties\": {\n        \"dtype\": \"category\",\n        \"num_unique_values\": 4,\n        \"samples\": [\n          \"Supermarket Type2\",\n          \"Supermarket Type3\",\n          \"Supermarket Type1\"\n        ],\n        \"semantic_type\": \"\",\n        \"description\": \"\"\n      }\n    },\n    {\n      \"column\": \"Item_Outlet_Sales\",\n      \"properties\": {\n        \"dtype\": \"number\",\n        \"std\": 1706.499615733833,\n        \"min\": 33.29,\n        \"max\": 13086.9648,\n        \"num_unique_values\": 3493,\n        \"samples\": [\n          5466.8838,\n          8417.7094,\n          5888.3352\n        ],\n        \"semantic_type\": \"\",\n        \"description\": \"\"\n      }\n    }\n  ]\n}"
            }
          },
          "metadata": {},
          "execution_count": 6
        }
      ]
    },
    {
      "cell_type": "markdown",
      "source": [
        "### Cantidad de filas y columnas\n",
        "\n",
        "Para saber la cantidad de columnas y filas usaré la propiedad .shape. Esta me muestra que hay **8523 filas y 12 columnas**."
      ],
      "metadata": {
        "id": "N55S3bOPzBkg"
      }
    },
    {
      "cell_type": "code",
      "source": [
        "df.shape"
      ],
      "metadata": {
        "colab": {
          "base_uri": "https://localhost:8080/"
        },
        "id": "Qn_YsiHrx6cW",
        "outputId": "365f34a9-84b8-49f0-ea98-b3c3a86d5c7c"
      },
      "execution_count": 7,
      "outputs": [
        {
          "output_type": "execute_result",
          "data": {
            "text/plain": [
              "(8523, 12)"
            ]
          },
          "metadata": {},
          "execution_count": 7
        }
      ]
    },
    {
      "cell_type": "markdown",
      "source": [
        "### Tipos de datos de cada variable\n",
        "Para saber los tipos de datos usaré la propiedad .dtypes y el método .unique porque no quiero que se repitan. Este me muestra que se utilizan tres tipos de datos para las variables. Estos son **float, int, y object.**"
      ],
      "metadata": {
        "id": "GfgzKNDoPdHC"
      }
    },
    {
      "cell_type": "code",
      "source": [
        "df.dtypes.unique()"
      ],
      "metadata": {
        "colab": {
          "base_uri": "https://localhost:8080/"
        },
        "id": "FGM6Tc7hQUqO",
        "outputId": "c5bdf62a-c95b-4466-ec9b-4a5dc20dab82"
      },
      "execution_count": 8,
      "outputs": [
        {
          "output_type": "execute_result",
          "data": {
            "text/plain": [
              "array([dtype('O'), dtype('float64'), dtype('int64')], dtype=object)"
            ]
          },
          "metadata": {},
          "execution_count": 8
        }
      ]
    },
    {
      "cell_type": "markdown",
      "source": [
        "### Revisión de valores duplicados\n",
        "Para esto utilizo la función .duplicated y la función .sum para saber el total. Esto me devuelve vacio, lo que me asegura que no hay valores duplicados."
      ],
      "metadata": {
        "id": "TfRVP_WY1oKf"
      }
    },
    {
      "cell_type": "code",
      "source": [
        "df.duplicated().sum()"
      ],
      "metadata": {
        "colab": {
          "base_uri": "https://localhost:8080/"
        },
        "id": "7tejnUfr1l47",
        "outputId": "7c526967-9ecc-4259-96f2-441b53c2ee24"
      },
      "execution_count": 9,
      "outputs": [
        {
          "output_type": "execute_result",
          "data": {
            "text/plain": [
              "0"
            ]
          },
          "metadata": {},
          "execution_count": 9
        }
      ]
    },
    {
      "cell_type": "markdown",
      "source": [
        "### Revisión de valores faltantes\n",
        "Hay 2 columnas con valores faltantes de 1463 y 2410 respectivamente. Si el total de filas es 8523 entonces estas columnas tienen un porcentaje de entre 17.17% al 28.28% de valores faltantes lo cual puede afectar considerablemente a mi modelo predictivo si lo elimino, claro que esto también va depender de las métricas que vaya a realizar con las diferentes columnas. Pensando en no afectar en mis metricas futuras y quedandome con la totalidad de los datos aplicaré la imputación."
      ],
      "metadata": {
        "id": "NflbO1n718IX"
      }
    },
    {
      "cell_type": "code",
      "source": [
        "df.isna().sum()"
      ],
      "metadata": {
        "id": "-FHVkC8MHbzT",
        "colab": {
          "base_uri": "https://localhost:8080/"
        },
        "outputId": "3e2debf2-3c78-4292-b371-c4ffb851e83f"
      },
      "execution_count": 10,
      "outputs": [
        {
          "output_type": "execute_result",
          "data": {
            "text/plain": [
              "Item_Identifier                 0\n",
              "Item_Weight                  1463\n",
              "Item_Fat_Content                0\n",
              "Item_Visibility                 0\n",
              "Item_Type                       0\n",
              "Item_MRP                        0\n",
              "Outlet_Identifier               0\n",
              "Outlet_Establishment_Year       0\n",
              "Outlet_Size                  2410\n",
              "Outlet_Location_Type            0\n",
              "Outlet_Type                     0\n",
              "Item_Outlet_Sales               0\n",
              "dtype: int64"
            ]
          },
          "metadata": {},
          "execution_count": 10
        }
      ]
    },
    {
      "cell_type": "markdown",
      "source": [
        "### Aplicar imputación para valores faltantes"
      ],
      "metadata": {
        "id": "18bzyme3Ohtw"
      }
    },
    {
      "cell_type": "markdown",
      "source": [
        "#### Imputación para los valores faltantes de la columna item weight\n"
      ],
      "metadata": {
        "id": "we0eFW9ZsDPk"
      }
    },
    {
      "cell_type": "markdown",
      "source": [
        "Como quiero que mi modelo sea lo más preciso posible, haré la imputación con el promedio de los valores de item_weight pero agrupados por el identificador del producto."
      ],
      "metadata": {
        "id": "Efanp8s3SV9d"
      }
    },
    {
      "cell_type": "code",
      "source": [
        "mean_weight_by_identifier = df.groupby(\"Item_Identifier\")['Item_Weight'].mean()"
      ],
      "metadata": {
        "id": "M8LeYdUx2D2T"
      },
      "execution_count": 11,
      "outputs": []
    },
    {
      "cell_type": "markdown",
      "source": [
        "Antes de pasar al siguiente paso revisó si hay valores NaN para saber si hay productos con identificadores unicos con valores NaN. En este caso si hay y son 4. Esto me deja pensando que tendré que tomar una decisión más adelante para estos valores."
      ],
      "metadata": {
        "id": "HLIzfARhvTDn"
      }
    },
    {
      "cell_type": "code",
      "source": [
        "mean_weight_by_identifier.isna().sum()"
      ],
      "metadata": {
        "colab": {
          "base_uri": "https://localhost:8080/"
        },
        "id": "0SEGvYV5vNY3",
        "outputId": "21c14ee7-a3b6-4170-91ab-61eb6e703810"
      },
      "execution_count": 12,
      "outputs": [
        {
          "output_type": "execute_result",
          "data": {
            "text/plain": [
              "4"
            ]
          },
          "metadata": {},
          "execution_count": 12
        }
      ]
    },
    {
      "cell_type": "markdown",
      "source": [
        "Al revisar la información del promedio de los pesos por producto me doy cuenta que esta es una serie de 1539 datos y que el index de los promedios es el identificador. Si paso como atributo \"mean_weight_by_identifier\" al método .fillna este no reemplazará los NaN de la columna item_weight ya que no tiene el mismo indice. Es por eso que decidí buscar una solución la cual me permita reemplazar todo los NaN de la columna \"Item_Weight\".\n"
      ],
      "metadata": {
        "id": "51aL3Ka2sEl9"
      }
    },
    {
      "cell_type": "code",
      "source": [
        "mean_weight_by_identifier.info()"
      ],
      "metadata": {
        "colab": {
          "base_uri": "https://localhost:8080/"
        },
        "id": "-xe_g-FZysMR",
        "outputId": "ed4ae919-6f18-4dca-aedc-2a8a03245154"
      },
      "execution_count": 13,
      "outputs": [
        {
          "output_type": "stream",
          "name": "stdout",
          "text": [
            "<class 'pandas.core.series.Series'>\n",
            "Index: 1559 entries, DRA12 to NCZ54\n",
            "Series name: Item_Weight\n",
            "Non-Null Count  Dtype  \n",
            "--------------  -----  \n",
            "1555 non-null   float64\n",
            "dtypes: float64(1)\n",
            "memory usage: 24.4+ KB\n"
          ]
        }
      ]
    },
    {
      "cell_type": "markdown",
      "source": [
        "Revisando la documentación de panda y apoyo de Stack overflow llege a la conclusión de utilizar el método .map para reemplazar los valores de la columna 'Item_Identifier', ya que los valores de está columna son las llaves de los valores de la serie ***mean_weight_by_identifier***. Ahora sí, tengo una serie con el mismo indice de los valores de la columna item_weight."
      ],
      "metadata": {
        "id": "Tvif0VCxgoRx"
      }
    },
    {
      "cell_type": "code",
      "source": [
        "mean_weight_series = df['Item_Identifier'].map(mean_weight_by_identifier)\n",
        "mean_weight_series.info()"
      ],
      "metadata": {
        "colab": {
          "base_uri": "https://localhost:8080/"
        },
        "id": "admcuhTbG7gA",
        "outputId": "9c913b71-626f-4ced-bd18-2b4da9dc4b47"
      },
      "execution_count": 14,
      "outputs": [
        {
          "output_type": "stream",
          "name": "stdout",
          "text": [
            "<class 'pandas.core.series.Series'>\n",
            "RangeIndex: 8523 entries, 0 to 8522\n",
            "Series name: Item_Identifier\n",
            "Non-Null Count  Dtype  \n",
            "--------------  -----  \n",
            "8519 non-null   float64\n",
            "dtypes: float64(1)\n",
            "memory usage: 66.7 KB\n"
          ]
        }
      ]
    },
    {
      "cell_type": "markdown",
      "source": [
        "Una vez reemplazados cada unos de los identificadores por el promedio de los pesos por producto lo paso como argumento a la función .fillna para reemplazar solo los valores NaN de la columna Item_Weight. Esto sin contar los 4 valores con identificador unico y valor NaN."
      ],
      "metadata": {
        "id": "t7Z2QFhYsFtx"
      }
    },
    {
      "cell_type": "code",
      "source": [
        "df['Item_Weight'] = df['Item_Weight'].fillna(mean_weight_series).round(2)"
      ],
      "metadata": {
        "id": "wo__k_o2Ij3y"
      },
      "execution_count": 15,
      "outputs": []
    },
    {
      "cell_type": "code",
      "source": [
        "df.isna().sum()"
      ],
      "metadata": {
        "id": "Mnt-k6joCCzP",
        "colab": {
          "base_uri": "https://localhost:8080/"
        },
        "outputId": "959b8ed3-c2b9-46d6-efed-33f5ad0e9cae"
      },
      "execution_count": 16,
      "outputs": [
        {
          "output_type": "execute_result",
          "data": {
            "text/plain": [
              "Item_Identifier                 0\n",
              "Item_Weight                     4\n",
              "Item_Fat_Content                0\n",
              "Item_Visibility                 0\n",
              "Item_Type                       0\n",
              "Item_MRP                        0\n",
              "Outlet_Identifier               0\n",
              "Outlet_Establishment_Year       0\n",
              "Outlet_Size                  2410\n",
              "Outlet_Location_Type            0\n",
              "Outlet_Type                     0\n",
              "Item_Outlet_Sales               0\n",
              "dtype: int64"
            ]
          },
          "metadata": {},
          "execution_count": 16
        }
      ]
    },
    {
      "cell_type": "markdown",
      "source": [
        "Como aún me quedan 4 items con peso NaN y no hay forma de poder obtener estos datos de la forma más acertada. Lo más razonable que veo es reemplazarlos por la media para no eliminarlos porque puede afectar las estadisticas de las otras columnas."
      ],
      "metadata": {
        "id": "sYI4zBkG7c37"
      }
    },
    {
      "cell_type": "code",
      "source": [
        "mean_weight = df['Item_Weight'].mean()\n",
        "df['Item_Weight'] = df['Item_Weight'].fillna(mean_weight).round(2)"
      ],
      "metadata": {
        "id": "dEzl5AsL8Iei"
      },
      "execution_count": 17,
      "outputs": []
    },
    {
      "cell_type": "markdown",
      "source": [
        "Ahora si no tenemos valores faltantes para la columna item_weight"
      ],
      "metadata": {
        "id": "cjtHpleTFvoJ"
      }
    },
    {
      "cell_type": "code",
      "source": [
        "df.isna().sum()"
      ],
      "metadata": {
        "colab": {
          "base_uri": "https://localhost:8080/"
        },
        "id": "FHfRTLpl8VVS",
        "outputId": "8f8dc401-822d-44ad-84c6-23fa2c09b513"
      },
      "execution_count": 18,
      "outputs": [
        {
          "output_type": "execute_result",
          "data": {
            "text/plain": [
              "Item_Identifier                 0\n",
              "Item_Weight                     0\n",
              "Item_Fat_Content                0\n",
              "Item_Visibility                 0\n",
              "Item_Type                       0\n",
              "Item_MRP                        0\n",
              "Outlet_Identifier               0\n",
              "Outlet_Establishment_Year       0\n",
              "Outlet_Size                  2410\n",
              "Outlet_Location_Type            0\n",
              "Outlet_Type                     0\n",
              "Item_Outlet_Sales               0\n",
              "dtype: int64"
            ]
          },
          "metadata": {},
          "execution_count": 18
        }
      ]
    },
    {
      "cell_type": "markdown",
      "source": [
        "#### Imputación para los valores faltantes de la columna outlet size"
      ],
      "metadata": {
        "id": "l7pWGariFnO5"
      }
    },
    {
      "cell_type": "markdown",
      "source": [
        "A está columna también le aplicare imputación a los valores faltantes. Primero verificare cuales son las outlet_identifier con valores NaN en la columna outlet_size, en este caso en particular son 3 los identificadores, al sumar las cantidades de estos nos da 2410 que son los valores faltantes. Como estos identificadores son unicos no se puede aplicar una moda por ejemplo, así que tendré que buscar otras coincidencias que me sean razonables para imputar."
      ],
      "metadata": {
        "id": "Jcj0aVqfGFJO"
      }
    },
    {
      "cell_type": "code",
      "source": [
        "outlet_size_missing = df['Outlet_Size'].isna()\n",
        "missing_values = df.loc[outlet_size_missing,:].groupby(\"Outlet_Identifier\")['Outlet_Size'].value_counts(dropna=False)\n",
        "missing_values"
      ],
      "metadata": {
        "colab": {
          "base_uri": "https://localhost:8080/"
        },
        "id": "F8OPF5uWL8Yo",
        "outputId": "498d25e5-5fb3-4cdf-88b7-0285f71dc75d"
      },
      "execution_count": 19,
      "outputs": [
        {
          "output_type": "execute_result",
          "data": {
            "text/plain": [
              "Outlet_Identifier  Outlet_Size\n",
              "OUT010             NaN            555\n",
              "OUT017             NaN            926\n",
              "OUT045             NaN            929\n",
              "Name: count, dtype: int64"
            ]
          },
          "metadata": {},
          "execution_count": 19
        }
      ]
    },
    {
      "cell_type": "code",
      "source": [
        "missing_values.sum()"
      ],
      "metadata": {
        "colab": {
          "base_uri": "https://localhost:8080/"
        },
        "id": "K6z-6zvTrQKz",
        "outputId": "5575457b-8a02-457c-da40-9afe91fa603f"
      },
      "execution_count": 20,
      "outputs": [
        {
          "output_type": "execute_result",
          "data": {
            "text/plain": [
              "2410"
            ]
          },
          "metadata": {},
          "execution_count": 20
        }
      ]
    },
    {
      "cell_type": "markdown",
      "source": [
        "Decidí agrupar las columnas outlet_size y outlet_identifier por las columnas outlet_location_type y outlet_type para encontrar coincidencias. Agruparlas de esta manera me ayudo a descubrir que el punto de venta ***Grocery Store*** con identificador ***OUT019*** tiene un tamaño de tipo ***small*** lo que me hace sentido ya que es una tienda, por está razón es muy probable que ***Grocery Store*** con identificador ***OUT010*** también sea de tamaño ***small***. También pude observar que en la locación ***Tier 1*** hay 2 puntos de ventas small y 1 medium, mientras que en la locación ***Tier 3*** hay 1 punto de venta small, 2 medium y 1 high. Lo que me hace pensar que los tamaños de puntos de ventas se distruyen de acuerdo al area que hay en la locación y que estás áreas se distribuyen de forma ascendente siendo ***Tier 1*** la locación con menor area y ***Tier 3*** la de mayor area. Por lo tanto, según el análisis realizado los 2 puntos de ventas faltantes con identificador ***OUT045*** y ***OUT017*** probablemente sean de tamaño ***medium***."
      ],
      "metadata": {
        "id": "R_EkoMHcsLnP"
      }
    },
    {
      "cell_type": "code",
      "source": [
        "df.groupby([\"Outlet_Location_Type\",  \"Outlet_Type\"])[[\"Outlet_Size\", \"Outlet_Identifier\"]].value_counts(dropna=False)"
      ],
      "metadata": {
        "colab": {
          "base_uri": "https://localhost:8080/"
        },
        "id": "feSrh3-cokUK",
        "outputId": "4ab15292-afb8-43f1-f367-742c5495e030"
      },
      "execution_count": 21,
      "outputs": [
        {
          "output_type": "execute_result",
          "data": {
            "text/plain": [
              "Outlet_Location_Type  Outlet_Type        Outlet_Size  Outlet_Identifier\n",
              "Tier 1                Grocery Store      Small        OUT019               528\n",
              "                      Supermarket Type1  Medium       OUT049               930\n",
              "                                         Small        OUT046               930\n",
              "Tier 2                Supermarket Type1  Small        OUT035               930\n",
              "                                         NaN          OUT045               929\n",
              "                                                      OUT017               926\n",
              "Tier 3                Grocery Store      NaN          OUT010               555\n",
              "                      Supermarket Type1  High         OUT013               932\n",
              "                      Supermarket Type2  Medium       OUT018               928\n",
              "                      Supermarket Type3  Medium       OUT027               935\n",
              "Name: count, dtype: int64"
            ]
          },
          "metadata": {},
          "execution_count": 21
        }
      ]
    },
    {
      "cell_type": "markdown",
      "source": [
        "Para reemplazar cada uno de los valores de ***OUT010, OUT017 y OUT045*** por los valores mencionados arriba, utilizaré el método .apply al cual le pasare una función como argumento. Esta función reemplazará cada valor que sea NaN con name ***OUT017*** o ***OUT045*** por ***Medium*** y si es ***OUT010*** por ***Small***. De no ser NaN lo remplazará por vacio. El reemplazar los valores de las otras filas no afectaran al resultado final porque para eso se usará .fillna."
      ],
      "metadata": {
        "id": "2MuVP3cVRpfN"
      }
    },
    {
      "cell_type": "code",
      "source": [
        "def replace_nan(size_counts):\n",
        "    if size_counts.isna().any():\n",
        "        if size_counts.name in ['OUT017', 'OUT045']:\n",
        "            return 'Medium'\n",
        "        elif size_counts.name == 'OUT010':\n",
        "            return 'Small'\n",
        "    else:\n",
        "      return ''\n",
        "\n",
        "outlet_size_replace_nan = df.groupby('Outlet_Identifier',  group_keys=True)['Outlet_Size'].apply(replace_nan)"
      ],
      "metadata": {
        "id": "PgK1WsqFyKnn"
      },
      "execution_count": 22,
      "outputs": []
    },
    {
      "cell_type": "markdown",
      "source": [
        "Luego utilizaré el método .map para reemplazar los valores de la columna ***outlet_identifier***, ya que los valores de está columna son las llaves de los valores de la serie ***outlet_size_replace_nan***. Hago esto para tener una serie con el mismo indice que los valores de la columna ***outlet_size***."
      ],
      "metadata": {
        "id": "utgR3qCoTGWt"
      }
    },
    {
      "cell_type": "code",
      "source": [
        "outlet_identifier_series = df['Outlet_Identifier'].map(outlet_size_replace_nan)\n",
        "outlet_identifier_series.info()"
      ],
      "metadata": {
        "colab": {
          "base_uri": "https://localhost:8080/"
        },
        "id": "eA_J5elZ7FRJ",
        "outputId": "2da8f240-657b-4a07-bc87-d3b6e6b07a26"
      },
      "execution_count": 23,
      "outputs": [
        {
          "output_type": "stream",
          "name": "stdout",
          "text": [
            "<class 'pandas.core.series.Series'>\n",
            "RangeIndex: 8523 entries, 0 to 8522\n",
            "Series name: Outlet_Identifier\n",
            "Non-Null Count  Dtype \n",
            "--------------  ----- \n",
            "8523 non-null   object\n",
            "dtypes: object(1)\n",
            "memory usage: 66.7+ KB\n"
          ]
        }
      ]
    },
    {
      "cell_type": "markdown",
      "source": [
        "Una vez listo el proceso anterior lo paso como argumento a la función .fillna para reemplazar solo los valores NaN de la columna Outlet_Size."
      ],
      "metadata": {
        "id": "eXaxJt1wVAci"
      }
    },
    {
      "cell_type": "code",
      "source": [
        "df['Outlet_Size'] = df['Outlet_Size'].fillna(outlet_identifier_series)"
      ],
      "metadata": {
        "id": "B53NtZfKG5MT"
      },
      "execution_count": 24,
      "outputs": []
    },
    {
      "cell_type": "markdown",
      "source": [
        "Para corroborar que solo los valores con identificadores ***OUT010***, ***OUT017*** y ***OUT045*** cambiaron de NaN a ***small*** y ***medium*** respectivamente. Aplicamos el mismo agrupamiento del análisis anterior. Al revisar el resultado podemos corroborar que estos se modificaron correctamente y los demás continúan con sus valores anteriores."
      ],
      "metadata": {
        "id": "k1dfr8W5VXdj"
      }
    },
    {
      "cell_type": "code",
      "source": [
        "df.groupby([\"Outlet_Location_Type\",  \"Outlet_Type\"])[[\"Outlet_Size\", \"Outlet_Identifier\"]].value_counts(dropna=False)"
      ],
      "metadata": {
        "colab": {
          "base_uri": "https://localhost:8080/"
        },
        "id": "m3_epHvCHW2J",
        "outputId": "6fe1e7e1-00de-46f9-d753-c5a17bba855d"
      },
      "execution_count": 25,
      "outputs": [
        {
          "output_type": "execute_result",
          "data": {
            "text/plain": [
              "Outlet_Location_Type  Outlet_Type        Outlet_Size  Outlet_Identifier\n",
              "Tier 1                Grocery Store      Small        OUT019               528\n",
              "                      Supermarket Type1  Medium       OUT049               930\n",
              "                                         Small        OUT046               930\n",
              "Tier 2                Supermarket Type1  Small        OUT035               930\n",
              "                                         Medium       OUT045               929\n",
              "                                                      OUT017               926\n",
              "Tier 3                Grocery Store      Small        OUT010               555\n",
              "                      Supermarket Type1  High         OUT013               932\n",
              "                      Supermarket Type2  Medium       OUT018               928\n",
              "                      Supermarket Type3  Medium       OUT027               935\n",
              "Name: count, dtype: int64"
            ]
          },
          "metadata": {},
          "execution_count": 25
        }
      ]
    },
    {
      "cell_type": "markdown",
      "source": [
        "### Confirmación de que no hay valores faltantes\n",
        "Una vez que tratamos los valores faltantes con el método de inputación corroboramos que no hay valores faltantes en nuestro dataframe."
      ],
      "metadata": {
        "id": "xZ0JxfrzWYuo"
      }
    },
    {
      "cell_type": "code",
      "source": [
        "df.isna().sum()"
      ],
      "metadata": {
        "colab": {
          "base_uri": "https://localhost:8080/"
        },
        "id": "vphk1GdOHQ4p",
        "outputId": "968a0179-b010-4658-98f1-e55fb6a0d15a"
      },
      "execution_count": 26,
      "outputs": [
        {
          "output_type": "execute_result",
          "data": {
            "text/plain": [
              "Item_Identifier              0\n",
              "Item_Weight                  0\n",
              "Item_Fat_Content             0\n",
              "Item_Visibility              0\n",
              "Item_Type                    0\n",
              "Item_MRP                     0\n",
              "Outlet_Identifier            0\n",
              "Outlet_Establishment_Year    0\n",
              "Outlet_Size                  0\n",
              "Outlet_Location_Type         0\n",
              "Outlet_Type                  0\n",
              "Item_Outlet_Sales            0\n",
              "dtype: int64"
            ]
          },
          "metadata": {},
          "execution_count": 26
        }
      ]
    },
    {
      "cell_type": "markdown",
      "source": [
        "### Arreglo de cualquier categoría inconsistente en los datos\n",
        "Dado que las únicas columnas con elementos categoricos que aún no he revisado son item_fat_content y item_type procedere a evaluarlos, viendo si tienen datos inconsistentes."
      ],
      "metadata": {
        "id": "LzKrsLzEG2fX"
      }
    },
    {
      "cell_type": "markdown",
      "source": [
        "Primero empiezo contando los valores que hay en la columna item_fat_content."
      ],
      "metadata": {
        "id": "aBiYCqyALmny"
      }
    },
    {
      "cell_type": "code",
      "source": [
        "df[\"Item_Fat_Content\"].value_counts()"
      ],
      "metadata": {
        "colab": {
          "base_uri": "https://localhost:8080/"
        },
        "id": "hP4akgP72WeN",
        "outputId": "84254036-148d-4998-f7fd-b8b5d7cd7424"
      },
      "execution_count": 27,
      "outputs": [
        {
          "output_type": "execute_result",
          "data": {
            "text/plain": [
              "Item_Fat_Content\n",
              "Low Fat    5089\n",
              "Regular    2889\n",
              "LF          316\n",
              "reg         117\n",
              "low fat     112\n",
              "Name: count, dtype: int64"
            ]
          },
          "metadata": {},
          "execution_count": 27
        }
      ]
    },
    {
      "cell_type": "markdown",
      "source": [
        " Lo cual me muestra que hay tres maneras de nombrar low fat y dos de regular, para que estos valores sean consistentes los remplazaré por 'Low Fat' y 'Regular', ya que serán los datos con los que decido trabajar en esta columna."
      ],
      "metadata": {
        "id": "ViObG1thMiOF"
      }
    },
    {
      "cell_type": "code",
      "source": [
        "df['Item_Fat_Content'] = df['Item_Fat_Content'].replace(['LF', 'low fat', 'reg'], ['Low Fat', 'Low Fat', 'Regular'])"
      ],
      "metadata": {
        "id": "RbNplly5IWxR"
      },
      "execution_count": 28,
      "outputs": []
    },
    {
      "cell_type": "markdown",
      "source": [
        "Al volver hacer el conteo puedo observar que solo hay dos categorias, lo cual le dará mayor consistencia a mi análisis futuro."
      ],
      "metadata": {
        "id": "Oy-0b-uhMkTL"
      }
    },
    {
      "cell_type": "code",
      "source": [
        "df[\"Item_Fat_Content\"].value_counts()"
      ],
      "metadata": {
        "colab": {
          "base_uri": "https://localhost:8080/"
        },
        "id": "7QOA_KfFJOeV",
        "outputId": "9b5902dd-ee7f-4fbc-eb01-823bbdc40e3e"
      },
      "execution_count": 29,
      "outputs": [
        {
          "output_type": "execute_result",
          "data": {
            "text/plain": [
              "Item_Fat_Content\n",
              "Low Fat    5517\n",
              "Regular    3006\n",
              "Name: count, dtype: int64"
            ]
          },
          "metadata": {},
          "execution_count": 29
        }
      ]
    },
    {
      "cell_type": "markdown",
      "source": [
        "Por último, evaluo la columna item_type, la cual no tiene inconsistencias así que la dejara como esta."
      ],
      "metadata": {
        "id": "xcL2E5IAM6JF"
      }
    },
    {
      "cell_type": "code",
      "source": [
        "df[\"Item_Type\"].value_counts()"
      ],
      "metadata": {
        "colab": {
          "base_uri": "https://localhost:8080/"
        },
        "id": "Soec0ddCJcmR",
        "outputId": "fd4e8d47-19e6-4008-8e23-5ed56bd65bc5"
      },
      "execution_count": 30,
      "outputs": [
        {
          "output_type": "execute_result",
          "data": {
            "text/plain": [
              "Item_Type\n",
              "Fruits and Vegetables    1232\n",
              "Snack Foods              1200\n",
              "Household                 910\n",
              "Frozen Foods              856\n",
              "Dairy                     682\n",
              "Canned                    649\n",
              "Baking Goods              648\n",
              "Health and Hygiene        520\n",
              "Soft Drinks               445\n",
              "Meat                      425\n",
              "Breads                    251\n",
              "Hard Drinks               214\n",
              "Others                    169\n",
              "Starchy Foods             148\n",
              "Breakfast                 110\n",
              "Seafood                    64\n",
              "Name: count, dtype: int64"
            ]
          },
          "metadata": {},
          "execution_count": 30
        }
      ]
    },
    {
      "cell_type": "markdown",
      "source": [
        "### Estadísticas resumidas de columnas númericas\n",
        "Para esto usaré el método .describe ya que por defecto me genera las estadisticas descriptivas de forma resumida. Se puede ver que el item con mayor peso es de 12.87, también que el precio máximo de venta al público del producto es 140.99. Mientras que el promedio de las ventas de un producto en tienda es de 2181.29. Sería interesante saber si el promedio de ventas esta relacionado con los productos y el precio de venta."
      ],
      "metadata": {
        "id": "yUceih43KXqa"
      }
    },
    {
      "cell_type": "code",
      "source": [
        "df.describe()"
      ],
      "metadata": {
        "id": "tI6npI6RNKxe",
        "colab": {
          "base_uri": "https://localhost:8080/",
          "height": 300
        },
        "outputId": "a32e4d7e-6d8e-4ec4-f12d-b36fc9ca4797"
      },
      "execution_count": 31,
      "outputs": [
        {
          "output_type": "execute_result",
          "data": {
            "text/plain": [
              "       Item_Weight  Item_Visibility     Item_MRP  Outlet_Establishment_Year  \\\n",
              "count  8523.000000      8523.000000  8523.000000                8523.000000   \n",
              "mean     12.875637         0.066132   140.992782                1997.831867   \n",
              "std       4.644867         0.051598    62.275067                   8.371760   \n",
              "min       4.560000         0.000000    31.290000                1985.000000   \n",
              "25%       8.780000         0.026989    93.826500                1987.000000   \n",
              "50%      12.650000         0.053931   143.012800                1999.000000   \n",
              "75%      16.850000         0.094585   185.643700                2004.000000   \n",
              "max      21.350000         0.328391   266.888400                2009.000000   \n",
              "\n",
              "       Item_Outlet_Sales  \n",
              "count        8523.000000  \n",
              "mean         2181.288914  \n",
              "std          1706.499616  \n",
              "min            33.290000  \n",
              "25%           834.247400  \n",
              "50%          1794.331000  \n",
              "75%          3101.296400  \n",
              "max         13086.964800  "
            ],
            "text/html": [
              "\n",
              "  <div id=\"df-be2ed7a7-9c86-4be6-b910-57b5e86488e6\" class=\"colab-df-container\">\n",
              "    <div>\n",
              "<style scoped>\n",
              "    .dataframe tbody tr th:only-of-type {\n",
              "        vertical-align: middle;\n",
              "    }\n",
              "\n",
              "    .dataframe tbody tr th {\n",
              "        vertical-align: top;\n",
              "    }\n",
              "\n",
              "    .dataframe thead th {\n",
              "        text-align: right;\n",
              "    }\n",
              "</style>\n",
              "<table border=\"1\" class=\"dataframe\">\n",
              "  <thead>\n",
              "    <tr style=\"text-align: right;\">\n",
              "      <th></th>\n",
              "      <th>Item_Weight</th>\n",
              "      <th>Item_Visibility</th>\n",
              "      <th>Item_MRP</th>\n",
              "      <th>Outlet_Establishment_Year</th>\n",
              "      <th>Item_Outlet_Sales</th>\n",
              "    </tr>\n",
              "  </thead>\n",
              "  <tbody>\n",
              "    <tr>\n",
              "      <th>count</th>\n",
              "      <td>8523.000000</td>\n",
              "      <td>8523.000000</td>\n",
              "      <td>8523.000000</td>\n",
              "      <td>8523.000000</td>\n",
              "      <td>8523.000000</td>\n",
              "    </tr>\n",
              "    <tr>\n",
              "      <th>mean</th>\n",
              "      <td>12.875637</td>\n",
              "      <td>0.066132</td>\n",
              "      <td>140.992782</td>\n",
              "      <td>1997.831867</td>\n",
              "      <td>2181.288914</td>\n",
              "    </tr>\n",
              "    <tr>\n",
              "      <th>std</th>\n",
              "      <td>4.644867</td>\n",
              "      <td>0.051598</td>\n",
              "      <td>62.275067</td>\n",
              "      <td>8.371760</td>\n",
              "      <td>1706.499616</td>\n",
              "    </tr>\n",
              "    <tr>\n",
              "      <th>min</th>\n",
              "      <td>4.560000</td>\n",
              "      <td>0.000000</td>\n",
              "      <td>31.290000</td>\n",
              "      <td>1985.000000</td>\n",
              "      <td>33.290000</td>\n",
              "    </tr>\n",
              "    <tr>\n",
              "      <th>25%</th>\n",
              "      <td>8.780000</td>\n",
              "      <td>0.026989</td>\n",
              "      <td>93.826500</td>\n",
              "      <td>1987.000000</td>\n",
              "      <td>834.247400</td>\n",
              "    </tr>\n",
              "    <tr>\n",
              "      <th>50%</th>\n",
              "      <td>12.650000</td>\n",
              "      <td>0.053931</td>\n",
              "      <td>143.012800</td>\n",
              "      <td>1999.000000</td>\n",
              "      <td>1794.331000</td>\n",
              "    </tr>\n",
              "    <tr>\n",
              "      <th>75%</th>\n",
              "      <td>16.850000</td>\n",
              "      <td>0.094585</td>\n",
              "      <td>185.643700</td>\n",
              "      <td>2004.000000</td>\n",
              "      <td>3101.296400</td>\n",
              "    </tr>\n",
              "    <tr>\n",
              "      <th>max</th>\n",
              "      <td>21.350000</td>\n",
              "      <td>0.328391</td>\n",
              "      <td>266.888400</td>\n",
              "      <td>2009.000000</td>\n",
              "      <td>13086.964800</td>\n",
              "    </tr>\n",
              "  </tbody>\n",
              "</table>\n",
              "</div>\n",
              "    <div class=\"colab-df-buttons\">\n",
              "\n",
              "  <div class=\"colab-df-container\">\n",
              "    <button class=\"colab-df-convert\" onclick=\"convertToInteractive('df-be2ed7a7-9c86-4be6-b910-57b5e86488e6')\"\n",
              "            title=\"Convert this dataframe to an interactive table.\"\n",
              "            style=\"display:none;\">\n",
              "\n",
              "  <svg xmlns=\"http://www.w3.org/2000/svg\" height=\"24px\" viewBox=\"0 -960 960 960\">\n",
              "    <path d=\"M120-120v-720h720v720H120Zm60-500h600v-160H180v160Zm220 220h160v-160H400v160Zm0 220h160v-160H400v160ZM180-400h160v-160H180v160Zm440 0h160v-160H620v160ZM180-180h160v-160H180v160Zm440 0h160v-160H620v160Z\"/>\n",
              "  </svg>\n",
              "    </button>\n",
              "\n",
              "  <style>\n",
              "    .colab-df-container {\n",
              "      display:flex;\n",
              "      gap: 12px;\n",
              "    }\n",
              "\n",
              "    .colab-df-convert {\n",
              "      background-color: #E8F0FE;\n",
              "      border: none;\n",
              "      border-radius: 50%;\n",
              "      cursor: pointer;\n",
              "      display: none;\n",
              "      fill: #1967D2;\n",
              "      height: 32px;\n",
              "      padding: 0 0 0 0;\n",
              "      width: 32px;\n",
              "    }\n",
              "\n",
              "    .colab-df-convert:hover {\n",
              "      background-color: #E2EBFA;\n",
              "      box-shadow: 0px 1px 2px rgba(60, 64, 67, 0.3), 0px 1px 3px 1px rgba(60, 64, 67, 0.15);\n",
              "      fill: #174EA6;\n",
              "    }\n",
              "\n",
              "    .colab-df-buttons div {\n",
              "      margin-bottom: 4px;\n",
              "    }\n",
              "\n",
              "    [theme=dark] .colab-df-convert {\n",
              "      background-color: #3B4455;\n",
              "      fill: #D2E3FC;\n",
              "    }\n",
              "\n",
              "    [theme=dark] .colab-df-convert:hover {\n",
              "      background-color: #434B5C;\n",
              "      box-shadow: 0px 1px 3px 1px rgba(0, 0, 0, 0.15);\n",
              "      filter: drop-shadow(0px 1px 2px rgba(0, 0, 0, 0.3));\n",
              "      fill: #FFFFFF;\n",
              "    }\n",
              "  </style>\n",
              "\n",
              "    <script>\n",
              "      const buttonEl =\n",
              "        document.querySelector('#df-be2ed7a7-9c86-4be6-b910-57b5e86488e6 button.colab-df-convert');\n",
              "      buttonEl.style.display =\n",
              "        google.colab.kernel.accessAllowed ? 'block' : 'none';\n",
              "\n",
              "      async function convertToInteractive(key) {\n",
              "        const element = document.querySelector('#df-be2ed7a7-9c86-4be6-b910-57b5e86488e6');\n",
              "        const dataTable =\n",
              "          await google.colab.kernel.invokeFunction('convertToInteractive',\n",
              "                                                    [key], {});\n",
              "        if (!dataTable) return;\n",
              "\n",
              "        const docLinkHtml = 'Like what you see? Visit the ' +\n",
              "          '<a target=\"_blank\" href=https://colab.research.google.com/notebooks/data_table.ipynb>data table notebook</a>'\n",
              "          + ' to learn more about interactive tables.';\n",
              "        element.innerHTML = '';\n",
              "        dataTable['output_type'] = 'display_data';\n",
              "        await google.colab.output.renderOutput(dataTable, element);\n",
              "        const docLink = document.createElement('div');\n",
              "        docLink.innerHTML = docLinkHtml;\n",
              "        element.appendChild(docLink);\n",
              "      }\n",
              "    </script>\n",
              "  </div>\n",
              "\n",
              "\n",
              "<div id=\"df-ea266775-7ec3-4a0f-b704-985e73c00d63\">\n",
              "  <button class=\"colab-df-quickchart\" onclick=\"quickchart('df-ea266775-7ec3-4a0f-b704-985e73c00d63')\"\n",
              "            title=\"Suggest charts\"\n",
              "            style=\"display:none;\">\n",
              "\n",
              "<svg xmlns=\"http://www.w3.org/2000/svg\" height=\"24px\"viewBox=\"0 0 24 24\"\n",
              "     width=\"24px\">\n",
              "    <g>\n",
              "        <path d=\"M19 3H5c-1.1 0-2 .9-2 2v14c0 1.1.9 2 2 2h14c1.1 0 2-.9 2-2V5c0-1.1-.9-2-2-2zM9 17H7v-7h2v7zm4 0h-2V7h2v10zm4 0h-2v-4h2v4z\"/>\n",
              "    </g>\n",
              "</svg>\n",
              "  </button>\n",
              "\n",
              "<style>\n",
              "  .colab-df-quickchart {\n",
              "      --bg-color: #E8F0FE;\n",
              "      --fill-color: #1967D2;\n",
              "      --hover-bg-color: #E2EBFA;\n",
              "      --hover-fill-color: #174EA6;\n",
              "      --disabled-fill-color: #AAA;\n",
              "      --disabled-bg-color: #DDD;\n",
              "  }\n",
              "\n",
              "  [theme=dark] .colab-df-quickchart {\n",
              "      --bg-color: #3B4455;\n",
              "      --fill-color: #D2E3FC;\n",
              "      --hover-bg-color: #434B5C;\n",
              "      --hover-fill-color: #FFFFFF;\n",
              "      --disabled-bg-color: #3B4455;\n",
              "      --disabled-fill-color: #666;\n",
              "  }\n",
              "\n",
              "  .colab-df-quickchart {\n",
              "    background-color: var(--bg-color);\n",
              "    border: none;\n",
              "    border-radius: 50%;\n",
              "    cursor: pointer;\n",
              "    display: none;\n",
              "    fill: var(--fill-color);\n",
              "    height: 32px;\n",
              "    padding: 0;\n",
              "    width: 32px;\n",
              "  }\n",
              "\n",
              "  .colab-df-quickchart:hover {\n",
              "    background-color: var(--hover-bg-color);\n",
              "    box-shadow: 0 1px 2px rgba(60, 64, 67, 0.3), 0 1px 3px 1px rgba(60, 64, 67, 0.15);\n",
              "    fill: var(--button-hover-fill-color);\n",
              "  }\n",
              "\n",
              "  .colab-df-quickchart-complete:disabled,\n",
              "  .colab-df-quickchart-complete:disabled:hover {\n",
              "    background-color: var(--disabled-bg-color);\n",
              "    fill: var(--disabled-fill-color);\n",
              "    box-shadow: none;\n",
              "  }\n",
              "\n",
              "  .colab-df-spinner {\n",
              "    border: 2px solid var(--fill-color);\n",
              "    border-color: transparent;\n",
              "    border-bottom-color: var(--fill-color);\n",
              "    animation:\n",
              "      spin 1s steps(1) infinite;\n",
              "  }\n",
              "\n",
              "  @keyframes spin {\n",
              "    0% {\n",
              "      border-color: transparent;\n",
              "      border-bottom-color: var(--fill-color);\n",
              "      border-left-color: var(--fill-color);\n",
              "    }\n",
              "    20% {\n",
              "      border-color: transparent;\n",
              "      border-left-color: var(--fill-color);\n",
              "      border-top-color: var(--fill-color);\n",
              "    }\n",
              "    30% {\n",
              "      border-color: transparent;\n",
              "      border-left-color: var(--fill-color);\n",
              "      border-top-color: var(--fill-color);\n",
              "      border-right-color: var(--fill-color);\n",
              "    }\n",
              "    40% {\n",
              "      border-color: transparent;\n",
              "      border-right-color: var(--fill-color);\n",
              "      border-top-color: var(--fill-color);\n",
              "    }\n",
              "    60% {\n",
              "      border-color: transparent;\n",
              "      border-right-color: var(--fill-color);\n",
              "    }\n",
              "    80% {\n",
              "      border-color: transparent;\n",
              "      border-right-color: var(--fill-color);\n",
              "      border-bottom-color: var(--fill-color);\n",
              "    }\n",
              "    90% {\n",
              "      border-color: transparent;\n",
              "      border-bottom-color: var(--fill-color);\n",
              "    }\n",
              "  }\n",
              "</style>\n",
              "\n",
              "  <script>\n",
              "    async function quickchart(key) {\n",
              "      const quickchartButtonEl =\n",
              "        document.querySelector('#' + key + ' button');\n",
              "      quickchartButtonEl.disabled = true;  // To prevent multiple clicks.\n",
              "      quickchartButtonEl.classList.add('colab-df-spinner');\n",
              "      try {\n",
              "        const charts = await google.colab.kernel.invokeFunction(\n",
              "            'suggestCharts', [key], {});\n",
              "      } catch (error) {\n",
              "        console.error('Error during call to suggestCharts:', error);\n",
              "      }\n",
              "      quickchartButtonEl.classList.remove('colab-df-spinner');\n",
              "      quickchartButtonEl.classList.add('colab-df-quickchart-complete');\n",
              "    }\n",
              "    (() => {\n",
              "      let quickchartButtonEl =\n",
              "        document.querySelector('#df-ea266775-7ec3-4a0f-b704-985e73c00d63 button');\n",
              "      quickchartButtonEl.style.display =\n",
              "        google.colab.kernel.accessAllowed ? 'block' : 'none';\n",
              "    })();\n",
              "  </script>\n",
              "</div>\n",
              "\n",
              "    </div>\n",
              "  </div>\n"
            ],
            "application/vnd.google.colaboratory.intrinsic+json": {
              "type": "dataframe",
              "summary": "{\n  \"name\": \"df\",\n  \"rows\": 8,\n  \"fields\": [\n    {\n      \"column\": \"Item_Weight\",\n      \"properties\": {\n        \"dtype\": \"number\",\n        \"std\": 3009.214032431888,\n        \"min\": 4.56,\n        \"max\": 8523.0,\n        \"num_unique_values\": 8,\n        \"samples\": [\n          12.875636512964919,\n          12.65,\n          8523.0\n        ],\n        \"semantic_type\": \"\",\n        \"description\": \"\"\n      }\n    },\n    {\n      \"column\": \"Item_Visibility\",\n      \"properties\": {\n        \"dtype\": \"number\",\n        \"std\": 3013.304152859587,\n        \"min\": 0.0,\n        \"max\": 8523.0,\n        \"num_unique_values\": 8,\n        \"samples\": [\n          0.06613202877895108,\n          0.053930934,\n          8523.0\n        ],\n        \"semantic_type\": \"\",\n        \"description\": \"\"\n      }\n    },\n    {\n      \"column\": \"Item_MRP\",\n      \"properties\": {\n        \"dtype\": \"number\",\n        \"std\": 2967.5785044087356,\n        \"min\": 31.29,\n        \"max\": 8523.0,\n        \"num_unique_values\": 8,\n        \"samples\": [\n          140.9927819781767,\n          143.0128,\n          8523.0\n        ],\n        \"semantic_type\": \"\",\n        \"description\": \"\"\n      }\n    },\n    {\n      \"column\": \"Outlet_Establishment_Year\",\n      \"properties\": {\n        \"dtype\": \"number\",\n        \"std\": 2506.291593828245,\n        \"min\": 8.371760408092655,\n        \"max\": 8523.0,\n        \"num_unique_values\": 8,\n        \"samples\": [\n          1997.8318667135984,\n          1999.0,\n          8523.0\n        ],\n        \"semantic_type\": \"\",\n        \"description\": \"\"\n      }\n    },\n    {\n      \"column\": \"Item_Outlet_Sales\",\n      \"properties\": {\n        \"dtype\": \"number\",\n        \"std\": 4519.156901462071,\n        \"min\": 33.29,\n        \"max\": 13086.9648,\n        \"num_unique_values\": 8,\n        \"samples\": [\n          2181.288913575032,\n          1794.331,\n          8523.0\n        ],\n        \"semantic_type\": \"\",\n        \"description\": \"\"\n      }\n    }\n  ]\n}"
            }
          },
          "metadata": {},
          "execution_count": 31
        }
      ]
    },
    {
      "cell_type": "markdown",
      "source": [
        "### Estadísticas con gráficos"
      ],
      "metadata": {
        "id": "27yWbCbqOMwn"
      }
    },
    {
      "cell_type": "markdown",
      "source": [
        "#### Histograma\n",
        "\n"
      ],
      "metadata": {
        "id": "--H-2FgDO3Vn"
      }
    },
    {
      "cell_type": "markdown",
      "source": [
        "Se puede observar que hay una mayor cantidad de productos con peso 7.5 y una menor cantidad de productos en los extremos de la districución, de un 5.5 a 5 y 21.3. Se podría deducir que al ser productos con pesos extremos, muy ligeros o muy pesados, las cantidades de estos son menores. Tendría que revisar si esto se relaciona con las ventas o el espacio del producto en tienda."
      ],
      "metadata": {
        "id": "KJT1NDQCUeLp"
      }
    },
    {
      "cell_type": "code",
      "source": [
        "weights = df[\"Item_Weight\"]"
      ],
      "metadata": {
        "id": "J-hilmftUkoK"
      },
      "execution_count": 32,
      "outputs": []
    },
    {
      "cell_type": "code",
      "source": [
        "plt.hist(weights, bins=30, rwidth=0.8, color='lightblue')\n",
        "\n",
        "plt.xlabel('Peso del producto', fontsize = 12);\n",
        "plt.ylabel('Cantidad', fontsize = 12);\n",
        "plt.title('Distribución de Pesos')\n",
        "\n",
        "plt.show()"
      ],
      "metadata": {
        "colab": {
          "base_uri": "https://localhost:8080/",
          "height": 476
        },
        "id": "WEmTK1A8O1d8",
        "outputId": "ee1bdf60-40b7-4147-8a70-384ea8a688b9"
      },
      "execution_count": 33,
      "outputs": [
        {
          "output_type": "display_data",
          "data": {
            "text/plain": [
              "<Figure size 640x480 with 1 Axes>"
            ],
            "image/png": "[encoded data removed]"
          },
          "metadata": {}
        }
      ]
    },
    {
      "cell_type": "markdown",
      "source": [
        "#### Boxplot\n"
      ],
      "metadata": {
        "id": "7PxJRG9Sg01i"
      }
    },
    {
      "cell_type": "markdown",
      "source": [
        "Me interesa saber si hay alguna diferencia notable entre el promedio de ventas por articulo y los tamaños de tiendas donde estos se venden (small, medium y high). Por lo cual aplicaré el grafico boxplot para ver como se relacionan estas dos varaibles."
      ],
      "metadata": {
        "id": "biYxax34rCPk"
      }
    },
    {
      "cell_type": "markdown",
      "source": [
        "Para obtener el promedio por articulo en cada tamaño de tienda los agruparé. Hay que recordar que un articulo se puede repetir más de una vez en una misma categoría de \"Outlet_Size\", es por eso que para estos casos obtendre el promedio."
      ],
      "metadata": {
        "id": "atgaY_BTs9cu"
      }
    },
    {
      "cell_type": "code",
      "source": [
        "df_mean_by_outlet_sales = df.groupby([\"Outlet_Size\", \"Item_Identifier\"])[\"Item_Outlet_Sales\"].mean().reset_index()\n",
        "df_mean_by_outlet_sales.info()"
      ],
      "metadata": {
        "colab": {
          "base_uri": "https://localhost:8080/"
        },
        "id": "vSzDUYmiaXPR",
        "outputId": "5f3c14b1-2c5b-43cd-ecff-a723feac9eb7"
      },
      "execution_count": 34,
      "outputs": [
        {
          "output_type": "stream",
          "name": "stdout",
          "text": [
            "<class 'pandas.core.frame.DataFrame'>\n",
            "RangeIndex: 3926 entries, 0 to 3925\n",
            "Data columns (total 3 columns):\n",
            " #   Column             Non-Null Count  Dtype  \n",
            "---  ------             --------------  -----  \n",
            " 0   Outlet_Size        3926 non-null   object \n",
            " 1   Item_Identifier    3926 non-null   object \n",
            " 2   Item_Outlet_Sales  3926 non-null   float64\n",
            "dtypes: float64(1), object(2)\n",
            "memory usage: 92.1+ KB\n"
          ]
        }
      ]
    },
    {
      "cell_type": "markdown",
      "source": [
        "Una vez que tengo el promedio de \"Item_Outlet_Sales\" agrupado por \"Outlet_Size\" y \"Item_Identifier\" procederé a filtrar estos por cada valor de los tamaños en tiendas (small, medium y high)."
      ],
      "metadata": {
        "id": "a_jgEy84ulIt"
      }
    },
    {
      "cell_type": "code",
      "source": [
        "small_filter = df_mean_by_outlet_sales['Outlet_Size']=='Small'\n",
        "medium_filter = df_mean_by_outlet_sales['Outlet_Size']=='Medium'\n",
        "high_filter = df_mean_by_outlet_sales['Outlet_Size']=='High'"
      ],
      "metadata": {
        "id": "h4K0TnutYQ7a"
      },
      "execution_count": 35,
      "outputs": []
    },
    {
      "cell_type": "code",
      "source": [
        "df_mean_by_outlet_sales.loc[small_filter,'Item_Outlet_Sales'].median()"
      ],
      "metadata": {
        "colab": {
          "base_uri": "https://localhost:8080/"
        },
        "id": "Ic6qQi7e3ANL",
        "outputId": "a3faf223-c052-40e3-e275-9554da010635"
      },
      "execution_count": 43,
      "outputs": [
        {
          "output_type": "execute_result",
          "data": {
            "text/plain": [
              "1418.8198"
            ]
          },
          "metadata": {},
          "execution_count": 43
        }
      ]
    },
    {
      "cell_type": "markdown",
      "source": [
        "Al revisar las 3 cajas podemos ver que el rango intercuartilico de ventas en las tiendas de tamaño medium va de 1500 a 3500, lo que quiere decir que el 50% de los datos de esta caja deberían ser analizados a mayor de talle, ya que este tamaño de tiendas tienden a tener mayores ventas de los articulos. Siendo la mediana de ventas de productos 2298.6 mayor a las de tamaño small y ligeramente mayor a high. También podemos ver que los casos aislados de los productos vendidos en la tienda de tamaño medium es menor a los de small y high.\n",
        "\n",
        "Cabe resaltar que en las tres boxplots podemos ver que hay una tendencia hacia valores más altos de ventas guiándonos de la parte superior de la distribución."
      ],
      "metadata": {
        "id": "tScC7__AwbW9"
      }
    },
    {
      "cell_type": "code",
      "source": [
        "small = df_mean_by_outlet_sales.loc[small_filter,'Item_Outlet_Sales'].values\n",
        "medium = df_mean_by_outlet_sales.loc[medium_filter,'Item_Outlet_Sales'].values\n",
        "high = df_mean_by_outlet_sales.loc[high_filter,'Item_Outlet_Sales'].values\n",
        "\n",
        "fig, axes = plt.subplots(nrows = 1, ncols = 1, figsize = (8,8))\n",
        "boxplots = axes.boxplot([small, medium, high],\n",
        "           notch = True,\n",
        "           labels=['Small', 'Medium', 'High'],\n",
        "           widths = .9,\n",
        "           patch_artist=True,\n",
        "           medianprops = dict(linestyle='-', linewidth=2, color='Yellow'),\n",
        "           boxprops = dict(linestyle='--', linewidth=2, color='Black', facecolor = 'blue', alpha = .4)\n",
        "          );\n",
        "# Change colors\n",
        "boxplot1 = boxplots['boxes'][0]\n",
        "boxplot1.set_facecolor('red')\n",
        "boxplot2 = boxplots['boxes'][1]\n",
        "boxplot2.set_facecolor('green')\n",
        "\n",
        "plt.yticks(np.arange(0, 11000, 1000))\n",
        "\n",
        "# Add font size and labels\n",
        "plt.xlabel('Tamaño de tienda', fontsize = 20);\n",
        "plt.ylabel('Venta de artículos', fontsize = 20);\n",
        "plt.xticks(fontsize = 16);\n",
        "plt.yticks(fontsize = 16);"
      ],
      "metadata": {
        "colab": {
          "base_uri": "https://localhost:8080/",
          "height": 716
        },
        "id": "E7Zr3jPfRGuh",
        "outputId": "cf5717ed-8b01-4044-8c40-f87df1b07223"
      },
      "execution_count": 57,
      "outputs": [
        {
          "output_type": "display_data",
          "data": {
            "text/plain": [
              "<Figure size 800x800 with 1 Axes>"
            ],
            "image/png": "[encoded data removed]"
          },
          "metadata": {}
        }
      ]
    },
    {
      "cell_type": "markdown",
      "source": [
        "#### Mapa de calor\n",
        "\n",
        "Aplicamos este gráfico para encontrar correlación entre nuestras variables númericas. Podemos ver que hay una correlación moderada entre el MRP (precio máximo de venta al público) y Outlet Sales (ventas del producto en una tienda particular). También hay una correlación negativa baja entre Visibility (porcentaje de área total de exposición) y Outlet Sales.\n",
        "\n",
        "Al tener una correlación moderada entre el MRP y Outlet Sales, podríamos decir que el cambio de los precios están asociados con los cambios moderados en las ventas, ya que estos cambios en las ventas también se ven afectados de otros factores. De igual forma, la relación de estas dos variables tiene un equilibrio delicado porque un aumento excesivo en el precio puede llevar a una disminución de las ventas y viceversa. Así que deberá encontrar un equilibrio si desea maximizar los ingresos por ventas mediante el aumento de los precios."
      ],
      "metadata": {
        "id": "_d_-q4nwbkWx"
      }
    },
    {
      "cell_type": "code",
      "source": [
        "corr = df[[\"Item_Weight\",\t\"Item_Visibility\",\t\"Item_MRP\",\t\"Item_Outlet_Sales\"]].corr()"
      ],
      "metadata": {
        "id": "vc4zf0MlblhQ"
      },
      "execution_count": 41,
      "outputs": []
    },
    {
      "cell_type": "code",
      "source": [
        "sns.heatmap(corr, cmap = 'Greens', annot=True)"
      ],
      "metadata": {
        "colab": {
          "base_uri": "https://localhost:8080/",
          "height": 453
        },
        "id": "1yQD1oWz2Qb3",
        "outputId": "9471fc60-402d-43aa-d852-6bcf0b74cff6"
      },
      "execution_count": 42,
      "outputs": [
        {
          "output_type": "execute_result",
          "data": {
            "text/plain": [
              "<Axes: >"
            ]
          },
          "metadata": {},
          "execution_count": 42
        },
        {
          "output_type": "display_data",
          "data": {
            "text/plain": [
              "<Figure size 640x480 with 2 Axes>"
            ],
            "image/png": "[encoded data removed]"
          },
          "metadata": {}
        }
      ]
    }
  ]
}